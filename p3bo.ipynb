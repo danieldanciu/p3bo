{
 "cells": [
  {
   "cell_type": "code",
   "execution_count": 1,
   "metadata": {},
   "outputs": [],
   "source": [
    "%matplotlib inline\n",
    "%load_ext autoreload\n",
    "%autoreload 2"
   ]
  },
  {
   "cell_type": "code",
   "execution_count": 2,
   "metadata": {},
   "outputs": [],
   "source": [
    "import p3bo"
   ]
  },
  {
   "cell_type": "code",
   "execution_count": 13,
   "metadata": {},
   "outputs": [
    {
     "data": {
      "text/plain": [
       "'AAAAAACAAB'"
      ]
     },
     "execution_count": 13,
     "metadata": {},
     "output_type": "execute_result"
    }
   ],
   "source": [
    "p3bo.get_starting_sequence(alphabet=\"ABC\", base_sequence=\"AAAAAAAAAA\", identity_percent=80)"
   ]
  },
  {
   "cell_type": "code",
   "execution_count": 3,
   "metadata": {},
   "outputs": [],
   "source": [
    "from flexs.models.levensthein import LevenstheinLandscape\n",
    "from flexs.models.noisy_abstract_model import NoisyAbstractModel\n",
    "from flexs.optimizers.adalead import Adalead\n",
    "from flexs.optimizers.genetic_algorithm import GeneticAlgorithm\n",
    "from flexs.optimizers.random import Random"
   ]
  },
  {
   "cell_type": "code",
   "execution_count": 4,
   "metadata": {},
   "outputs": [],
   "source": [
    "protein_alphabet = \"ACDEFGHIKLMNPQRSTVWY\"\n",
    "optimal_sequence = \"MKYTKVMRYQIIKPLNAEWDELGMVLRDIQKETRAALNKTIQLCWEYQGFSADYKQIHGQYPKPKDVLGYTSMHGYAYDRLKNEFSKIASSNLSQTIKRAVDKWNSDLKEILRGDRSIPNFRKDCPIDIVKQSTKIQKCNDGYVLSLGLINREYKNELGRKNGVFDVLIKANDKTQQTILERIINGDYTYTASQIINHKNKWFINLTYQFETKETALDPNNVMGVDLGIVYPVYIAFNNSLHRYHIKGGEIERFRRQVEKRKRELLNQGKYCGDGRKGHGYATRTKSIESISDKIARFRDTCNHKYSRFIVDMALKHNCGIIQMEDLTGISKESTFLKNWTYYDLQQKIEYKAREAGIQVIKIEPQYTSQRCSKCGYIDKENRQEQATFKCIECGFKTNADYNAARNIAIPNIDKIIRKTLKMQ\""
   ]
  },
  {
   "cell_type": "code",
   "execution_count": 5,
   "metadata": {},
   "outputs": [],
   "source": [
    "# Create a naive/mock model that simply computes the distance from the target optimum.\n",
    "landscape = LevenstheinLandscape(optimal_sequence)\n",
    "model = NoisyAbstractModel(landscape)"
   ]
  },
  {
   "cell_type": "code",
   "execution_count": 6,
   "metadata": {},
   "outputs": [],
   "source": [
    "# Get a sequence 80% identical to the optimal.\n",
    "starting_sequence = p3bo.get_starting_sequence(\n",
    "    alphabet=protein_alphabet, base_sequence=optimal_sequence, identity_percent=80\n",
    ") "
   ]
  },
  {
   "cell_type": "code",
   "execution_count": 24,
   "metadata": {},
   "outputs": [
    {
     "data": {
      "text/plain": [
       "'MKYTKVMRYQWIKDLNAEWDELGLVERANVKETRAALDKTIQECCEYQDFSADYKQIHGQYPKPLDVNGFTDTHGYAYFRGKVEWSKIIHSHLSQDIKRAVDKWWSLLKEILRDDMSIPNFRKDCPIDIVKQSTKIQGCNDGYVASLGLTNREYSNELGCKNGDIDVLIKANDKTQDTIDEPIIRGDYMYTASQIKNHKNDWFINNTYQFETKETALWPNNVMGVPLGQVYPVYIDWNNSLSRYHIKRGMIRRFRRFVEKQKREYLNKGKNCYDGRKGHVYTMRTKSIESISDKIARFRLTCNHKPSRFIVDMALKHNCGIIQTEDSNGISKESTFLKNWTYYDLQQKISIKAREAQFQVIKIEPQYTSQRMSKCFYIDKCNAQEQLTMKYIECGFKTNSNYVAARNIAIQNIDKIIGKTLLAG'"
      ]
     },
     "execution_count": 24,
     "metadata": {},
     "output_type": "execute_result"
    }
   ],
   "source": [
    "starting_sequence"
   ]
  },
  {
   "cell_type": "code",
   "execution_count": 99,
   "metadata": {},
   "outputs": [],
   "source": [
    "adalead = Adalead(\n",
    "    model=model,\n",
    "    rounds=10,\n",
    "    sequences_batch_size=10,\n",
    "    model_queries_per_batch=100,\n",
    "    starting_sequence=starting_sequence,\n",
    "    alphabet=protein_alphabet,\n",
    ")\n",
    "ga = GeneticAlgorithm(\n",
    "    model=model,\n",
    "    rounds=10,\n",
    "    sequences_batch_size=10,\n",
    "    model_queries_per_batch=100,\n",
    "    starting_sequence=starting_sequence,\n",
    "    alphabet=protein_alphabet,\n",
    "    population_size=100,\n",
    "    parent_selection_strategy=\"top-proportion\",\n",
    "    children_proportion=0.5,\n",
    "    parent_selection_proportion=0.5,\n",
    ")\n",
    "r = Random(\n",
    "    model=model,\n",
    "    rounds=10,\n",
    "    sequences_batch_size=10,\n",
    "    model_queries_per_batch=100,\n",
    "    starting_sequence=starting_sequence,\n",
    "    alphabet=protein_alphabet,\n",
    ")"
   ]
  },
  {
   "cell_type": "code",
   "execution_count": 103,
   "metadata": {},
   "outputs": [],
   "source": [
    "optimizer = p3bo.P3bo(landscape=landscape, portfolio=[adalead, r], softmax_temperature=1.0, decay_rate=0.9, batch_size=10, starting_sequence=starting_sequence)"
   ]
  },
  {
   "cell_type": "code",
   "execution_count": 101,
   "metadata": {},
   "outputs": [],
   "source": [
    "optimizer.step()"
   ]
  },
  {
   "cell_type": "code",
   "execution_count": 104,
   "metadata": {},
   "outputs": [
    {
     "data": {
      "text/plain": [
       "array([0.5, 0.5])"
      ]
     },
     "execution_count": 104,
     "metadata": {},
     "output_type": "execute_result"
    }
   ],
   "source": [
    "optimizer.sampling_weights"
   ]
  },
  {
   "cell_type": "code",
   "execution_count": 49,
   "metadata": {},
   "outputs": [
    {
     "name": "stderr",
     "output_type": "stream",
     "text": [
      "                                                               \r"
     ]
    }
   ],
   "source": [
    "optimizer.optimize(num_steps=1000)"
   ]
  },
  {
   "cell_type": "code",
   "execution_count": 7,
   "metadata": {},
   "outputs": [],
   "source": [
    "import pandas as pd\n",
    "import numpy as np"
   ]
  },
  {
   "cell_type": "code",
   "execution_count": 8,
   "metadata": {},
   "outputs": [
    {
     "data": {
      "text/plain": [
       "0"
      ]
     },
     "execution_count": 8,
     "metadata": {},
     "output_type": "execute_result"
    }
   ],
   "source": [
    "landscape.cost"
   ]
  },
  {
   "cell_type": "code",
   "execution_count": 9,
   "metadata": {},
   "outputs": [],
   "source": [
    "sequences_data = pd.DataFrame(\n",
    "            {\n",
    "                \"sequence\": starting_sequence,\n",
    "                \"model_score\": np.nan,\n",
    "                \"true_score\": landscape.get_fitness([starting_sequence]),\n",
    "                \"round\": 0,\n",
    "                \"model_cost\": model.cost,\n",
    "                \"measurement_cost\": 1})\n",
    "           "
   ]
  },
  {
   "cell_type": "code",
   "execution_count": 19,
   "metadata": {},
   "outputs": [],
   "source": [
    "measured_sequences = pd.DataFrame([\n",
    "    p3bo.Measurement(\n",
    "        round=0,\n",
    "        sequence=starting_sequence,\n",
    "        model_score=np.nan,\n",
    "        true_score=landscape.get_fitness([starting_sequence]).item(),\n",
    "    )\n",
    "])"
   ]
  },
  {
   "cell_type": "code",
   "execution_count": 50,
   "metadata": {},
   "outputs": [
    {
     "ename": "KeyboardInterrupt",
     "evalue": "",
     "output_type": "error",
     "traceback": [
      "\u001b[0;31m---------------------------------------------------------------------------\u001b[0m",
      "\u001b[0;31mKeyboardInterrupt\u001b[0m                         Traceback (most recent call last)",
      "\u001b[1;32m/Users/sebastian/cradle/p3bo/p3bo.ipynb Cell 18\u001b[0m line \u001b[0;36m1\n\u001b[0;32m----> <a href='vscode-notebook-cell:/Users/sebastian/cradle/p3bo/p3bo.ipynb#X35sZmlsZQ%3D%3D?line=0'>1</a>\u001b[0m optimizer\u001b[39m.\u001b[39;49mstep()\n",
      "File \u001b[0;32m~/cradle/p3bo/p3bo.py:121\u001b[0m, in \u001b[0;36mP3bo.step\u001b[0;34m(self)\u001b[0m\n\u001b[1;32m    119\u001b[0m \u001b[39m# Generate a batch of sequences.\u001b[39;00m\n\u001b[1;32m    120\u001b[0m \u001b[39mwhile\u001b[39;00m \u001b[39mlen\u001b[39m(batch) \u001b[39m<\u001b[39m \u001b[39mself\u001b[39m\u001b[39m.\u001b[39mbatch_size:\n\u001b[0;32m--> 121\u001b[0m     sampler_id \u001b[39m=\u001b[39m np\u001b[39m.\u001b[39;49mrandom\u001b[39m.\u001b[39;49mchoice(\n\u001b[1;32m    122\u001b[0m         \u001b[39mrange\u001b[39;49m(\u001b[39mlen\u001b[39;49m(explorer_samplers)), p\u001b[39m=\u001b[39;49m\u001b[39mself\u001b[39;49m\u001b[39m.\u001b[39;49msampling_weights\n\u001b[1;32m    123\u001b[0m     )\n",
      "\u001b[0;31mKeyboardInterrupt\u001b[0m: "
     ]
    }
   ],
   "source": [
    "optimizer.step()"
   ]
  },
  {
   "cell_type": "code",
   "execution_count": 20,
   "metadata": {},
   "outputs": [
    {
     "data": {
      "text/html": [
       "<div>\n",
       "<style scoped>\n",
       "    .dataframe tbody tr th:only-of-type {\n",
       "        vertical-align: middle;\n",
       "    }\n",
       "\n",
       "    .dataframe tbody tr th {\n",
       "        vertical-align: top;\n",
       "    }\n",
       "\n",
       "    .dataframe thead th {\n",
       "        text-align: right;\n",
       "    }\n",
       "</style>\n",
       "<table border=\"1\" class=\"dataframe\">\n",
       "  <thead>\n",
       "    <tr style=\"text-align: right;\">\n",
       "      <th></th>\n",
       "      <th>round</th>\n",
       "      <th>sequence</th>\n",
       "      <th>model_score</th>\n",
       "      <th>true_score</th>\n",
       "    </tr>\n",
       "  </thead>\n",
       "  <tbody>\n",
       "    <tr>\n",
       "      <th>0</th>\n",
       "      <td>0</td>\n",
       "      <td>MKYTKVMTFQIIPPFNAEWDELGVVWRDIQKETIAALEKTCQLCWG...</td>\n",
       "      <td>NaN</td>\n",
       "      <td>85</td>\n",
       "    </tr>\n",
       "  </tbody>\n",
       "</table>\n",
       "</div>"
      ],
      "text/plain": [
       "   round                                           sequence  model_score  \\\n",
       "0      0  MKYTKVMTFQIIPPFNAEWDELGVVWRDIQKETIAALEKTCQLCWG...          NaN   \n",
       "\n",
       "   true_score  \n",
       "0          85  "
      ]
     },
     "execution_count": 20,
     "metadata": {},
     "output_type": "execute_result"
    }
   ],
   "source": [
    "measured_sequences"
   ]
  },
  {
   "cell_type": "code",
   "execution_count": 26,
   "metadata": {},
   "outputs": [
    {
     "data": {
      "text/html": [
       "<div>\n",
       "<style scoped>\n",
       "    .dataframe tbody tr th:only-of-type {\n",
       "        vertical-align: middle;\n",
       "    }\n",
       "\n",
       "    .dataframe tbody tr th {\n",
       "        vertical-align: top;\n",
       "    }\n",
       "\n",
       "    .dataframe thead th {\n",
       "        text-align: right;\n",
       "    }\n",
       "</style>\n",
       "<table border=\"1\" class=\"dataframe\">\n",
       "  <thead>\n",
       "    <tr style=\"text-align: right;\">\n",
       "      <th></th>\n",
       "      <th>round</th>\n",
       "      <th>sequence</th>\n",
       "      <th>model_score</th>\n",
       "      <th>true_score</th>\n",
       "    </tr>\n",
       "  </thead>\n",
       "  <tbody>\n",
       "    <tr>\n",
       "      <th>0</th>\n",
       "      <td>0</td>\n",
       "      <td>MKYTKVMTFQIIPPFNAEWDELGVVWRDIQKETIAALEKTCQLCWG...</td>\n",
       "      <td>NaN</td>\n",
       "      <td>85</td>\n",
       "    </tr>\n",
       "  </tbody>\n",
       "</table>\n",
       "</div>"
      ],
      "text/plain": [
       "   round                                           sequence  model_score  \\\n",
       "0      0  MKYTKVMTFQIIPPFNAEWDELGVVWRDIQKETIAALEKTCQLCWG...          NaN   \n",
       "\n",
       "   true_score  \n",
       "0          85  "
      ]
     },
     "execution_count": 26,
     "metadata": {},
     "output_type": "execute_result"
    }
   ],
   "source": [
    "optimizer.measured_sequences"
   ]
  },
  {
   "cell_type": "code",
   "execution_count": 21,
   "metadata": {},
   "outputs": [
    {
     "data": {
      "text/plain": [
       "(array(['CKYTKVMTFQIIPPFNAEWDELGVVWRDIQKETIAALEKTCQLCWGYQGLSADYKQPHVRYTKPKDVLGYTSMHGYAHDRLKNEFSTIAHSNLSQTIARHVDKWNSWLPFILRGDRIIPNDRKDCPGLIVKHSTKIWKCFDGYVLTLGLINTEWANELTRKMGMFDVLSMANDKTPQGILERITNHDYTYTASQIINPKCKYDINLTYQFETWETALDPNNVMGVDSDIFYPWYIAFNNSLHRYHIKGGEIEPFRLQVEKRKREFLNQGKYCIDGRKGHGYLTRTKSIESIIDYIRRFRDLCNDKYSGGIRDMALKHNCGIEQMEDLHPPSKEAIFLKNWTFYDNQQKIEYKARGAGIQVIKIEPQYCSQRYSQMNYIDKENRQEQAIFKCIECGSKTAYDYNIARHIAIPNIDKIIRKTLKMQ',\n",
       "        'MKYTKVMTFQIIPPFNAEWDELGVVWRDIQKETIAALEKTCQLCWGYQGLSADYKQPHVRYTKPKDVLGYTSMHGYAHDRLKNEFSTIAHSNLSQTIARHVDKWNSWLPFILRGDRIIPNDRKDCPGLIVKHSTKIWKCFDGYVLTLGLINTEWANELTRKMGMFDVLSMANDKTPQGILERITNHDKTYTASQIINPKCKYDINLTYQFETWETALDPNNVMGVDSDIFYPWYIAFNNSLHRYHIKGGEIEPFRLQVEKRKREFLNQGKYCIDGRKGHGYLTRTKSIESIIDYIRRCRDLCNDKYSGGIRDMALKHNCGIEQMEDLHPPSKEAIFLKNWTFYDNQQKIEYKARGAGIQVIKIEPQYCSQRYSQMNYIDKENRQEQAIFKCIECGSKTAYDYNIARHIAIPNIDKIIRKTLKMQ',\n",
       "        'MKYFKVMTFQIIPPFNAEWDELGVVWRDIQKETIAALEKTCQLCWGYQGLSADYKQPHVRYTKPKDVLGYTSMHGYAHDRLKNEFSTIRHSNLSQTIARHVDKWNSWLPFILRGDRIIPNDRKDCPGLIVKHSTKIWKCFDGYVLTLGLINTEWANELTRKMGMFDVLSMANDKTPQGILERITNHDYTYTASQIINPKCKYDINLTYQFETWETALDPNNVMGVDSDIFYPWYIAFNNSLHRYHIKGGEIEPFRLQVEKRKREFLNQGKYCIDGRKGHGYLTRTKSIESIIDYIRRFRDLCNDNYSGGIRDMALKHNCGIEQMEDLHPPSKEAIFLKNWTFYDNQQKIEYKARGAGIQVIKIEPQYCSQRYSQMNYIDKENRQEQAIFKCIECGSKTAYDYNIARHIAIPNIDKIIRKTLKMQ',\n",
       "        'MKYFKVMTFQIIPPFNAEWDELGVVWRDIQKETIAALEKTCQLCWGYQGLSADYKQPHVRYTKPKDVLGYTSMHGYAHDRLKNEFSTIAHSNLSQTIARHVDKWNSWLPFILRGDRIIPNDRKDCPGLIVKHSTKIWKCFDGYVLTLGLINTEWANELTRKMGMFDVLSMANDKTPQGILERITNHDYTYTASQIINPKCKYDINLTYQFETWETALDPNNVMGVDSDIFYPWYIAFNNSLHRYHIKGGEIEPFRLQVEKRKREFLNQGKYCIDGRKGHGYLTRTKSIESIIDYIRRFRDLCNDKYSGGIRDMALKHNCGIEQMEDLHPPSKEAIFLKNWTFYDNQQKIEYKARGAGIQVIKIEPQYCSQRYSQMNYIDKENRQEQAIFKCIECGSKTAYDYNIARHIAIPNIDKIIRKTLKMQ',\n",
       "        'MKYTKVMTFQIIPPFNAEWDELGVVWRDIQKETIAGLEKTCQLCWGYQGLSADYKQPHVRYTKPKDVLGYTCMHGYAHDRLKNEFSTIAHSNLSQTIARHVDKWNSWLPFILRGDRIIPNDRKDCPGLIVKHSTKIWKCFDGYVLTLGLINTEWANELTRKMGMFDVLSMANDKTPQGILERITNHDYTYTASQIINPKCKYDINLKYQFETWETALDPNNVMGVDSDIFYPWYIAFNNSLHRYHIKGGEIEPFRLQVEKRKREFLNQGKYCIDGRKGHGYLTRTKSIESIIDYIRRFRDLCNDKYSGGIRDMALKHNCGIEQMEDLHPPSKEAIFLKNWTFYDNQQKIEYKARGAGIQVIKIEPQYCSQRYSQMNYIDKENRQEQAIFKCIECGSKTAYDYNIARHIAIPNIDKIIRKTLKMQ',\n",
       "        'MKYTKVMTFQIIPPFNAEWDELGVVWRDIQKETIAALEKTCQLCWGYQGLSADYKQPHVRYTKPKDVLGYTSMHGYAHDRLKNEFHTIAHSNLSQTIARHVDKWNSWLPFILRGDRIIPNDRKDCPGLIVKHSTKIWKCFDGYVLTLGLINTEWANELTRKMGMFDVLSMANDKTPQGILERITNHDYTYTASQIINPKCKYDINLTYQFETWETALDPNNVMGVDSDIFYPWYQAFNNSLHRYHIKGGEIEPFRLQVEKRKREFLNQGKYCIDGRKGHGYLTRTKSIESIIDYIRRFRDLCNDRYSGGIRDMALKHNCGIEQMEDLHPPSKEAIFLKNWTFYDNQQKIEYKARGAGIQVIKIEPQYCSQRYSQMNYIDKENRQEQAIFKCIECGSKTAYDYNIARHIAIPNIDKIIRKTLKMQ',\n",
       "        'MKYTKVMTFQIIPPFNAEWDELGVVWRDIQKETIAALEKNCQLCWGYQGLSADYKQPHVRYTKPKDVLGYTSMHGYAHDRLKNEFHTIAHSNLSQTIARHVDKWNSWLPFILRGDRIIPNDRKDCPGLIVKHITKIWKCFDGYVLTLGLINTEWANELTRKMGMFDVLSMANDKTPQGILERITNHDYTYTASQIINPKCKYDINLTYQFETWETALDPNNVMGVDSDIFYPWYQAFNNSLHRYHIKGGEIEPFRLQVEKRKREFLNQGKYCIDGRKGHKYLTRTKSIESIIDYIRRFRDLCNDRYSGGIRDMALKHNCGIEQMEDLHPMSKEAIFLKNWTFYDNQQKIEYKARGAGIQVIKIEPQYCSQRYSQMNYIDKENRQEQAIFKCIECGSKTAYDYNIARHIAIPNIDKIIRKTLKMQ',\n",
       "        'MKYTKVMTFQIIPPFNAEWDELGVVWRDIQKETIAALEKTCQLCWGYQGLSADYKQPHVRYTKPKDVLGYTSMHGYAHDRLKNEFSTIAHSNLSQTIARHVDKWNSWLPGILRGDRIIPNDRKDCPGLIVKHSTKIWKCFDGYVLTLGLINTEWANELTRKMGMFDVLSMANDKTPQGILERITNHDYTYTASQIINPKCKYDINLTYQFETWETALDPNNVMGVDSDIFYPWYIAFNNSLHRYHIKGGEIEPFRLQVEKRKREFLNQGKYCIDGRKGHGYLTRTKSIESIIDYIRRFRDLCNDKYSGGIRDMALKHNCGIEQMEDLHPPSKEAIFLKNWTFYDNQQKIEYKARGAGIQVIKIEPQYCSQRYSQMNYIDKENRQEQAIFKCIECGSKTAYDYNIARHIAIPNIDKIIRKTLKMQ',\n",
       "        'MKYTKVMTFQIIPPFNAEWDELGVVWRDIQKETIAALEKTCQLCWGYQGLSADYKQPHVRSTKPKDVLGYTSMHGYAHDRLKNEFSTIAHSNLSQTIARHVDKWNSWLPFILRGDRIIPNDRKDCPGLIVKHSTKIWKCFDGYVLTLGLINTEWANELTRKMGMFDVLSMANDKTPQGQLERITNHDYTYTASQIINPHCKYDINLTYQFETWETALDPNNVMGVDSDIFYPWYIAFNNSLHRYHIKGGEIEPFRLQVEKRKREFLNQGKYCIDGRKGHGYLTRTKSIESIIDYIRRFRDLCNDKYSGGIRDMALKHNCGIEQMEDLHPPSKEAIFLKNWTFYDNQQKIEYKARGAGIQVIKIEPQYCSQRYSQMNYIDKENRQEQAIFKCIECGSKTAYDYNIARHIAIPNIDKIIRKTLKMQ'],\n",
       "       dtype='<U424'),\n",
       " array([129.19629333, 108.97864199, 106.79536661, 102.75261509,\n",
       "        101.19300826, 100.76284082,  99.23993184,  95.8614248 ,\n",
       "         92.17186217]))"
      ]
     },
     "execution_count": 21,
     "metadata": {},
     "output_type": "execute_result"
    }
   ],
   "source": [
    "adalead.propose_sequences(measured_sequences=sequences_data)"
   ]
  },
  {
   "cell_type": "code",
   "execution_count": 40,
   "metadata": {},
   "outputs": [],
   "source": [
    "s = p3bo.sample_from_explorer(explorer=adalead, measured_sequences=optimizer.measured_sequences)"
   ]
  },
  {
   "cell_type": "code",
   "execution_count": 44,
   "metadata": {},
   "outputs": [
    {
     "data": {
      "text/plain": [
       "Candidate(sequence='MKYTKVMTFQIIPPFNAEWDELGVVWRDIQKETIAALEKTCQLCWGYQMLSADYKQPHVRYTKPKDVLGYTSMHGYAHDRLKNEFSTIAHSNLSQTIARHPDKWNSWLPFILRGDRIIPNDRKDCPGLIVKHSTKIWKCFDGYVLTLGLINTEWANELTRKMGMFDVLSMANDKTPQGILERITNHDYTYTASQIINPKCKYDINLTMQFETWETALDPNNVMGVDSDIFYPWYIAFNNSLHRYHIKGGEIEPFRLQVEKRKREFLNQGKYHIDGRKGHGYLTRTKSIPSIIDYIRRLRDLCNDKYSGGIRDMALKHNCGIEQMEELHPPSKEAIFLKNWTFYSNQQKIEYKARGAGIQVIKIEPQYCSQRYSQMNYIDKENRQEQAIFKCIECGSKTAYDYNIARHIAIPNIDKIIRKTLKMQ', model_score=96.26503382500124)"
      ]
     },
     "execution_count": 44,
     "metadata": {},
     "output_type": "execute_result"
    }
   ],
   "source": [
    "next(s)"
   ]
  },
  {
   "cell_type": "code",
   "execution_count": 27,
   "metadata": {},
   "outputs": [],
   "source": [
    "import random"
   ]
  },
  {
   "cell_type": "code",
   "execution_count": 28,
   "metadata": {},
   "outputs": [
    {
     "ename": "TypeError",
     "evalue": "Random.choice() got an unexpected keyword argument 'weights'",
     "output_type": "error",
     "traceback": [
      "\u001b[0;31m---------------------------------------------------------------------------\u001b[0m",
      "\u001b[0;31mTypeError\u001b[0m                                 Traceback (most recent call last)",
      "\u001b[1;32m/Users/sebastian/cradle/p3bo/p3bo.ipynb Cell 21\u001b[0m line \u001b[0;36m1\n\u001b[0;32m----> <a href='vscode-notebook-cell:/Users/sebastian/cradle/p3bo/p3bo.ipynb#X31sZmlsZQ%3D%3D?line=0'>1</a>\u001b[0m random\u001b[39m.\u001b[39;49mchoice(\u001b[39mrange\u001b[39;49m(\u001b[39m10\u001b[39;49m), weights\u001b[39m=\u001b[39;49m[\u001b[39m1\u001b[39;49m]\u001b[39m*\u001b[39;49m\u001b[39m10\u001b[39;49m)\n",
      "\u001b[0;31mTypeError\u001b[0m: Random.choice() got an unexpected keyword argument 'weights'"
     ]
    }
   ],
   "source": [
    "random.choice(range(10), weights=[1]*10)"
   ]
  },
  {
   "cell_type": "code",
   "execution_count": 111,
   "metadata": {},
   "outputs": [
    {
     "name": "stderr",
     "output_type": "stream",
     "text": [
      "Optimizing ...:   0%|          | 0/10 [00:00<?, ?it/s]"
     ]
    },
    {
     "name": "stderr",
     "output_type": "stream",
     "text": [
      "                                                        \r"
     ]
    }
   ],
   "source": [
    "optimizer.optimize(num_steps=10)"
   ]
  },
  {
   "cell_type": "code",
   "execution_count": 112,
   "metadata": {},
   "outputs": [
    {
     "data": {
      "text/plain": [
       "<Axes: xlabel='round'>"
      ]
     },
     "execution_count": 112,
     "metadata": {},
     "output_type": "execute_result"
    },
    {
     "data": {
      "image/png": "[encoded data removed]",
      "text/plain": [
       "<Figure size 1500x500 with 1 Axes>"
      ]
     },
     "metadata": {},
     "output_type": "display_data"
    }
   ],
   "source": [
    "optimizer.measured_sequences.groupby(\"round\").true_score.mean().plot(figsize=(15, 5))"
   ]
  },
  {
   "cell_type": "code",
   "execution_count": 113,
   "metadata": {},
   "outputs": [
    {
     "data": {
      "text/plain": [
       "<Axes: xlabel='round'>"
      ]
     },
     "execution_count": 113,
     "metadata": {},
     "output_type": "execute_result"
    },
    {
     "data": {
      "image/png": "[encoded data removed]",
      "text/plain": [
       "<Figure size 1500x500 with 1 Axes>"
      ]
     },
     "metadata": {},
     "output_type": "display_data"
    }
   ],
   "source": [
    "optimizer.measured_sequences.groupby(\"round\").model_score.mean().plot(figsize=(15, 5))"
   ]
  }
 ],
 "metadata": {
  "kernelspec": {
   "display_name": ".venv",
   "language": "python",
   "name": "python3"
  },
  "language_info": {
   "codemirror_mode": {
    "name": "ipython",
    "version": 3
   },
   "file_extension": ".py",
   "mimetype": "text/x-python",
   "name": "python",
   "nbconvert_exporter": "python",
   "pygments_lexer": "ipython3",
   "version": "3.10.8"
  }
 },
 "nbformat": 4,
 "nbformat_minor": 2
}
